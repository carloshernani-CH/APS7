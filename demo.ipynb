{
 "cells": [
  {
   "cell_type": "markdown",
   "metadata": {},
   "source": [
    "# Simulação de Jogador Automático de Forca"
   ]
  },
  {
   "cell_type": "markdown",
   "metadata": {},
   "source": [
    "### Passo 1: Importar Bibliotecas e Configurações Iniciais\n",
    "Primeiro, vamos importar as bibliotecas necessárias e definir as classes e funções básicas."
   ]
  },
  {
   "cell_type": "code",
   "execution_count": 3,
   "metadata": {},
   "outputs": [],
   "source": [
    "import requests\n",
    "import random\n",
    "import math\n",
    "from collections import Counter\n",
    "from tqdm import tqdm  # Para acompanhamento do progresso\n"
   ]
  },
  {
   "cell_type": "markdown",
   "metadata": {},
   "source": [
    "### Passo 2: Definir a Classe `JogadorAutomatico`\n",
    "\n",
    "A classe `JogadorAutomatico` é responsável por carregar o vocabulário e calcular a entropia de cada letra para escolher as melhores opções ao jogar."
   ]
  },
  {
   "cell_type": "code",
   "execution_count": 4,
   "metadata": {},
   "outputs": [],
   "source": [
    "class JogadorAutomatico:\n",
    "    def __init__(self):\n",
    "        self.vocabulario = self.carregar_vocabulario()\n",
    "        self.possibilidades = []\n",
    "\n",
    "    def carregar_vocabulario(self):\n",
    "        # Baixa o vocabulário do link fornecido\n",
    "        url = 'https://www.ime.usp.br/~pf/dicios/br-sem-acentos.txt'\n",
    "        response = requests.get(url)\n",
    "        if response.status_code == 200:\n",
    "            vocabulario = response.text.splitlines()\n",
    "            return vocabulario\n",
    "        else:\n",
    "            print(f\"Erro ao carregar vocabulário: {response.status_code}\")\n",
    "            return []\n",
    "\n",
    "    def iniciar_jogo(self, tamanho_palavra):\n",
    "        # Filtra o vocabulário para palavras do mesmo tamanho\n",
    "        self.possibilidades = [palavra for palavra in self.vocabulario if len(palavra) == tamanho_palavra]\n",
    "        self.letras_usadas = set()  # Reset para cada novo jogo\n",
    "\n",
    "    def calcular_entropia_letra_rapido(self):\n",
    "        # Calcula a entropia somente para letras que ainda não foram usadas\n",
    "        letras_disponiveis = Counter(\"\".join(self.possibilidades))\n",
    "        total_letras = sum(letras_disponiveis.values())\n",
    "        entropia = {\n",
    "            letra: -(freq / total_letras) * math.log2(freq / total_letras)\n",
    "            for letra, freq in letras_disponiveis.items() if letra not in self.letras_usadas\n",
    "        }\n",
    "        return entropia\n",
    "\n",
    "    def escolher_letra_rapido(self):\n",
    "        # Seleciona a letra com maior entropia, evitando letras já tentadas\n",
    "        entropia = self.calcular_entropia_letra_rapido()\n",
    "        letra_escolhida = max(entropia, key=entropia.get)\n",
    "        self.letras_usadas.add(letra_escolhida)  # Marca a letra como usada\n",
    "        return letra_escolhida"
   ]
  },
  {
   "cell_type": "markdown",
   "metadata": {},
   "source": [
    "#### Explicação:\n",
    "\n",
    "1. **carregar_vocabulario**: Carrega a lista de palavras a partir de uma URL.\n",
    "2. **iniciar_jogo**: Filtra as palavras para manter apenas aquelas com o mesmo tamanho da palavra que será adivinhada.\n",
    "3. **calcular_entropia_letra_rapido**: Calcula a entropia das letras restantes, considerando apenas as letras que ainda não foram usadas.\n",
    "4. **escolher_letra_rapido**: Escolhe a letra com maior entropia (ou seja, a letra mais informativa para o jogo)."
   ]
  },
  {
   "cell_type": "markdown",
   "metadata": {},
   "source": [
    "### Passo 3: Definir a Classe `JogoDeForca`\n",
    "\n",
    "A classe `JogoDeForca` contém a lógica do jogo da forca, como escolher a palavra secreta, verificar tentativas de letras e determinar o término do jogo."
   ]
  },
  {
   "cell_type": "code",
   "execution_count": 5,
   "metadata": {},
   "outputs": [],
   "source": [
    "class JogoDeForca:\n",
    "    def __init__(self):\n",
    "        self.vocabulario = JogadorAutomatico().carregar_vocabulario()\n",
    "\n",
    "    def novo_jogo(self, vidas=5):\n",
    "        self.vidas = vidas\n",
    "        self.palavra = random.choice(self.vocabulario)\n",
    "        self.palavra_oculta = [\"_\"] * len(self.palavra)  # Representa a palavra como \"_\" para cada letra\n",
    "        return len(self.palavra)\n",
    "\n",
    "    def tentar_letra(self, letra):\n",
    "        if self.vidas > 0:\n",
    "            if letra in self.palavra:\n",
    "                indices = [idx for idx, l in enumerate(self.palavra) if l == letra]\n",
    "                for i in indices:\n",
    "                    self.palavra_oculta[i] = letra\n",
    "                return indices\n",
    "            else:\n",
    "                self.vidas -= 1\n",
    "                return []\n",
    "        else:\n",
    "            return False\n",
    "\n",
    "    def tentar_palavra(self, palavra):\n",
    "        if palavra == self.palavra:\n",
    "            return True\n",
    "        else:\n",
    "            self.vidas = 0\n",
    "            return False\n",
    "\n",
    "    def jogo_terminado(self):\n",
    "        return \"_\" not in self.palavra_oculta or self.vidas == 0"
   ]
  },
  {
   "cell_type": "markdown",
   "metadata": {},
   "source": [
    "#### Explicação:\n",
    "\n",
    "1. **novo_jogo**: Inicia o jogo com uma palavra aleatória e define o número de vidas.\n",
    "2. **tentar_letra**: Verifica se a letra está presente na palavra e atualiza as vidas.\n",
    "3. **tentar_palavra**: Permite uma tentativa de adivinhar a palavra completa.\n",
    "4. **jogo_terminado**: Retorna `True` se o jogo terminou (vitória ou perda de todas as vidas)."
   ]
  },
  {
   "cell_type": "markdown",
   "metadata": {},
   "source": [
    "### Passo 4: Integrar `JogadorAutomatico` com o `JogoDeForca`\n",
    "\n",
    "Agora, a classe `JogadorAutomaticoIntegrado` une o jogador automático ao jogo, permitindo que o jogador jogue o jogo completo com a lógica da entropia."
   ]
  },
  {
   "cell_type": "code",
   "execution_count": 6,
   "metadata": {},
   "outputs": [],
   "source": [
    "class JogadorAutomaticoIntegrado(JogadorAutomatico):\n",
    "    def jogar(self, jogo):\n",
    "        # Inicia um novo jogo e define as possibilidades com base no tamanho da palavra\n",
    "        tamanho_palavra = jogo.novo_jogo()\n",
    "        self.iniciar_jogo(tamanho_palavra)\n",
    "\n",
    "        while not jogo.jogo_terminado():\n",
    "            letra = self.escolher_letra_rapido()\n",
    "            resultado = jogo.tentar_letra(letra)\n",
    "            \n",
    "            # Atualiza as possibilidades com base na resposta do jogo\n",
    "            if resultado:\n",
    "                self.possibilidades = [p for p in self.possibilidades if all(p[i] == letra for i in resultado)]\n",
    "            else:\n",
    "                self.possibilidades = [p for p in self.possibilidades if letra not in p]\n",
    "\n",
    "            # Tentativa de adivinhar a palavra se restar uma única possibilidade\n",
    "            if len(self.possibilidades) == 1:\n",
    "                palavra_final = self.possibilidades[0]\n",
    "                return jogo.tentar_palavra(palavra_final)\n",
    "        return jogo.jogo_terminado()"
   ]
  },
  {
   "cell_type": "markdown",
   "metadata": {},
   "source": [
    "#### Explicação:\n",
    "\n",
    "- **jogar**: Método principal onde o jogador automático escolhe letras e tenta adivinhar a palavra, atualizando as possibilidades conforme o jogo avança."
   ]
  },
  {
   "cell_type": "markdown",
   "metadata": {},
   "source": [
    "### Passo 5: Simular Vários Jogos e Avaliar Desempenho\n",
    "\n",
    "Por fim, executamos uma simulação de múltiplos jogos e calculamos o desempenho do jogador automático."
   ]
  },
  {
   "cell_type": "code",
   "execution_count": 7,
   "metadata": {},
   "outputs": [
    {
     "name": "stderr",
     "output_type": "stream",
     "text": [
      "Simulando Jogos: 100%|██████████| 100/100 [03:42<00:00,  2.22s/it]"
     ]
    },
    {
     "name": "stdout",
     "output_type": "stream",
     "text": [
      "\n",
      "Simulação de 100 jogos:\n",
      "Vitórias: 100\n",
      "Derrotas: 0\n",
      "Taxa de Sucesso: 100.00%\n",
      "Taxa de Derrota: 0.00%\n",
      "Média de Tentativas em Vitórias: 1.44\n",
      "\n",
      "Análise de Palavras Difíceis:\n",
      "Nenhuma palavra específica causou dificuldade consistentemente.\n"
     ]
    },
    {
     "name": "stderr",
     "output_type": "stream",
     "text": [
      "\n"
     ]
    }
   ],
   "source": [
    "def simular_jogos_rapido(n=100):\n",
    "    vitorias = 0\n",
    "    derrotas = 0\n",
    "    tentativas_totais = []\n",
    "    palavras_dificeis = []\n",
    "    \n",
    "    for _ in tqdm(range(n), desc=\"Simulando Jogos\"):\n",
    "        jogo = JogoDeForca()\n",
    "        jogador = JogadorAutomaticoIntegrado()\n",
    "        \n",
    "        # Inicia o jogo e realiza as jogadas\n",
    "        resultado = jogador.jogar(jogo)\n",
    "        \n",
    "        # Contabiliza o resultado\n",
    "        if resultado:\n",
    "            vitorias += 1\n",
    "            tentativas_totais.append(5 - jogo.vidas)\n",
    "        else:\n",
    "            derrotas += 1\n",
    "            palavras_dificeis.append(jogo.palavra)\n",
    "\n",
    "    # Calcula as taxas de sucesso e derrota\n",
    "    taxa_sucesso = vitorias / n * 100\n",
    "    taxa_derrota = derrotas / n * 100\n",
    "    media_tentativas = sum(tentativas_totais) / len(tentativas_totais) if tentativas_totais else 0\n",
    "\n",
    "    # Exibe os resultados\n",
    "    print(f\"\\nSimulação de {n} jogos:\")\n",
    "    print(f\"Vitórias: {vitorias}\")\n",
    "    print(f\"Derrotas: {derrotas}\")\n",
    "    print(f\"Taxa de Sucesso: {taxa_sucesso:.2f}%\")\n",
    "    print(f\"Taxa de Derrota: {taxa_derrota:.2f}%\")\n",
    "    print(f\"Média de Tentativas em Vitórias: {media_tentativas:.2f}\")\n",
    "\n",
    "    # Análise de palavras difíceis\n",
    "    print(\"\\nAnálise de Palavras Difíceis:\")\n",
    "    if palavras_dificeis:\n",
    "        contagem_palavras_dificeis = Counter(palavras_dificeis)\n",
    "        palavras_mais_dificeis = contagem_palavras_dificeis.most_common(5)\n",
    "        for palavra, freq in palavras_mais_dificeis:\n",
    "            print(f\"Palavra: {palavra}, Ocorrências: {freq}\")\n",
    "    else:\n",
    "        print(\"Nenhuma palavra específica causou dificuldade consistentemente.\")\n",
    "\n",
    "# Executa a simulação\n",
    "simular_jogos_rapido(100)"
   ]
  },
  {
   "cell_type": "markdown",
   "metadata": {},
   "source": [
    "#### Explicação:\n",
    "\n",
    "- **simular_jogos_rapido**: Roda uma simulação de `n` jogos (100 por padrão) e mostra a taxa de sucesso, taxa de derrota e palavras mais difíceis."
   ]
  }
 ],
 "metadata": {
  "kernelspec": {
   "display_name": ".venv",
   "language": "python",
   "name": "python3"
  },
  "language_info": {
   "codemirror_mode": {
    "name": "ipython",
    "version": 3
   },
   "file_extension": ".py",
   "mimetype": "text/x-python",
   "name": "python",
   "nbconvert_exporter": "python",
   "pygments_lexer": "ipython3",
   "version": "3.11.4"
  }
 },
 "nbformat": 4,
 "nbformat_minor": 2
}
